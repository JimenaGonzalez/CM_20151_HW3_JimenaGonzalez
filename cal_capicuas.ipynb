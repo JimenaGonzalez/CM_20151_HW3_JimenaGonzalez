{
 "metadata": {
  "name": "",
  "signature": "sha256:25f073139f68a633eee74fe77de74987a3cb6c0153bfd0b1fc0bf899b9f9d97f"
 },
 "nbformat": 3,
 "nbformat_minor": 0,
 "worksheets": [
  {
   "cells": [
    {
     "cell_type": "heading",
     "level": 1,
     "metadata": {},
     "source": [
      "Calculando capicuas"
     ]
    },
    {
     "cell_type": "code",
     "collapsed": false,
     "input": [
      "%pylab inline"
     ],
     "language": "python",
     "metadata": {},
     "outputs": [
      {
       "output_type": "stream",
       "stream": "stdout",
       "text": [
        "Populating the interactive namespace from numpy and matplotlib\n"
       ]
      }
     ],
     "prompt_number": 1
    },
    {
     "cell_type": "heading",
     "level": 2,
     "metadata": {},
     "source": [
      "Lista con todos los numero en el intervalo [100000000,109000000], no se hizo con el intervalo completo porque el Notebook no responde"
     ]
    },
    {
     "cell_type": "code",
     "collapsed": false,
     "input": [
      "f=[]\n",
      "for i in range (100000000,109000000):\n",
      "    f.append(i)"
     ],
     "language": "python",
     "metadata": {},
     "outputs": [],
     "prompt_number": 2
    },
    {
     "cell_type": "heading",
     "level": 2,
     "metadata": {},
     "source": [
      "Numeros que son capicuas en la lista anterior, se imprimen y se agregan a una nueva lista."
     ]
    },
    {
     "cell_type": "code",
     "collapsed": false,
     "input": [
      "c=[]\n",
      "print \"Numeros que son capicuas:\"\n",
      "for i in range (len(f)):\n",
      "    b = str(f[i])\n",
      "    p1= 0\n",
      "    p2= len(b)-1\n",
      "    v=1\n",
      "    while(v and p1 < p2):\n",
      "        if (b[p1]!= b[p2]):\n",
      "              v=0\n",
      "        p1=p1+1\n",
      "        p2=p2-1\n",
      "    if(v):\n",
      "       print b\n",
      "       c.append(b)\n",
      "print \"El numero de capicuas es \" + str(len(r))\n",
      "        "
     ],
     "language": "python",
     "metadata": {},
     "outputs": [
      {
       "output_type": "stream",
       "stream": "stdout",
       "text": [
        "Numero que son capicuas:\n",
        "100000001"
       ]
      },
      {
       "output_type": "stream",
       "stream": "stdout",
       "text": [
        "\n",
        "100010001\n",
        "100020001\n",
        "100030001"
       ]
      },
      {
       "output_type": "stream",
       "stream": "stdout",
       "text": [
        "\n",
        "100040001\n",
        "100050001\n",
        "100060001\n",
        "100070001"
       ]
      },
      {
       "output_type": "stream",
       "stream": "stdout",
       "text": [
        "\n",
        "100080001\n",
        "100090001\n",
        "100101001\n",
        "100111001"
       ]
      },
      {
       "output_type": "stream",
       "stream": "stdout",
       "text": [
        "\n",
        "100121001\n",
        "100131001\n",
        "100141001\n",
        "100151001"
       ]
      },
      {
       "output_type": "stream",
       "stream": "stdout",
       "text": [
        "\n",
        "100161001\n",
        "100171001\n",
        "100181001\n",
        "100191001"
       ]
      },
      {
       "output_type": "stream",
       "stream": "stdout",
       "text": [
        "\n",
        "100202001\n",
        "100212001\n",
        "100222001\n",
        "100232001"
       ]
      },
      {
       "output_type": "stream",
       "stream": "stdout",
       "text": [
        "\n",
        "100242001\n",
        "100252001\n",
        "100262001\n",
        "100272001"
       ]
      },
      {
       "output_type": "stream",
       "stream": "stdout",
       "text": [
        "\n",
        "100282001\n",
        "100292001\n",
        "100303001\n",
        "100313001"
       ]
      },
      {
       "output_type": "stream",
       "stream": "stdout",
       "text": [
        "\n",
        "100323001\n"
       ]
      },
      {
       "ename": "KeyboardInterrupt",
       "evalue": "",
       "output_type": "pyerr",
       "traceback": [
        "\u001b[1;31m---------------------------------------------------------------------------\u001b[0m\n\u001b[1;31mKeyboardInterrupt\u001b[0m                         Traceback (most recent call last)",
        "\u001b[1;32m<ipython-input-4-7de4f6a595e6>\u001b[0m in \u001b[0;36m<module>\u001b[1;34m()\u001b[0m\n\u001b[0;32m     11\u001b[0m         \u001b[0mp1\u001b[0m\u001b[1;33m=\u001b[0m\u001b[0mp1\u001b[0m\u001b[1;33m+\u001b[0m\u001b[1;36m1\u001b[0m\u001b[1;33m\u001b[0m\u001b[0m\n\u001b[0;32m     12\u001b[0m         \u001b[0mp2\u001b[0m\u001b[1;33m=\u001b[0m\u001b[0mp2\u001b[0m\u001b[1;33m-\u001b[0m\u001b[1;36m1\u001b[0m\u001b[1;33m\u001b[0m\u001b[0m\n\u001b[1;32m---> 13\u001b[1;33m     \u001b[1;32mif\u001b[0m\u001b[1;33m(\u001b[0m\u001b[0mv\u001b[0m\u001b[1;33m)\u001b[0m\u001b[1;33m:\u001b[0m\u001b[1;33m\u001b[0m\u001b[0m\n\u001b[0m\u001b[0;32m     14\u001b[0m        \u001b[1;32mprint\u001b[0m \u001b[0mb\u001b[0m\u001b[1;33m\u001b[0m\u001b[0m\n\u001b[0;32m     15\u001b[0m        \u001b[0mc\u001b[0m\u001b[1;33m.\u001b[0m\u001b[0mappend\u001b[0m\u001b[1;33m(\u001b[0m\u001b[0mb\u001b[0m\u001b[1;33m)\u001b[0m\u001b[1;33m\u001b[0m\u001b[0m\n",
        "\u001b[1;31mKeyboardInterrupt\u001b[0m: "
       ]
      }
     ],
     "prompt_number": 4
    },
    {
     "cell_type": "heading",
     "level": 2,
     "metadata": {},
     "source": [
      "Para cada numero capucua se busca su representacion en binario, y esta se guarda digito a digito en una lista llamada numerobinr, luego se verifica si en esta representacion es capicua"
     ]
    },
    {
     "cell_type": "code",
     "collapsed": false,
     "input": [
      "for i in range (len(c)):\n",
      "    numerobinr=[] \n",
      "    m = c[i]\n",
      "    d=1\n",
      "    v=1\n",
      "    while(v and d!=0):\n",
      "       d= int(m/2)\n",
      "       a = m%2\n",
      "       if(d !=0):\n",
      "           m = d\n",
      "           numerobinr.append(a)\n",
      "       else:\n",
      "           numerobinr.append(a)\n",
      "           v=0\n",
      "    \n",
      "    #verificar si es capicua en binario\n",
      "    p1=0\n",
      "    p2= len(numerobinr)-1\n",
      "    v=1\n",
      "    while(v and p1<p2):\n",
      "        if(numerobinr[p1]!=numerobinr[p2]):\n",
      "            v=0\n",
      "        p1= p1+1\n",
      "        p2= p2-1\n",
      "    if(v):\n",
      "        print numerobinr[0:len(numerobinr)]\n",
      "        "
     ],
     "language": "python",
     "metadata": {},
     "outputs": [
      {
       "ename": "TypeError",
       "evalue": "unsupported operand type(s) for /: 'str' and 'int'",
       "output_type": "pyerr",
       "traceback": [
        "\u001b[1;31m---------------------------------------------------------------------------\u001b[0m\n\u001b[1;31mTypeError\u001b[0m                                 Traceback (most recent call last)",
        "\u001b[1;32m<ipython-input-11-509444e8487f>\u001b[0m in \u001b[0;36m<module>\u001b[1;34m()\u001b[0m\n\u001b[0;32m      5\u001b[0m     \u001b[0mv\u001b[0m\u001b[1;33m=\u001b[0m\u001b[1;36m1\u001b[0m\u001b[1;33m\u001b[0m\u001b[0m\n\u001b[0;32m      6\u001b[0m     \u001b[1;32mwhile\u001b[0m\u001b[1;33m(\u001b[0m\u001b[0mv\u001b[0m \u001b[1;32mand\u001b[0m \u001b[0md\u001b[0m\u001b[1;33m!=\u001b[0m\u001b[1;36m0\u001b[0m\u001b[1;33m)\u001b[0m\u001b[1;33m:\u001b[0m\u001b[1;33m\u001b[0m\u001b[0m\n\u001b[1;32m----> 7\u001b[1;33m        \u001b[0md\u001b[0m\u001b[1;33m=\u001b[0m \u001b[0mint\u001b[0m\u001b[1;33m(\u001b[0m\u001b[0mm\u001b[0m\u001b[1;33m/\u001b[0m\u001b[1;36m2\u001b[0m\u001b[1;33m)\u001b[0m\u001b[1;33m\u001b[0m\u001b[0m\n\u001b[0m\u001b[0;32m      8\u001b[0m        \u001b[0ma\u001b[0m \u001b[1;33m=\u001b[0m \u001b[0mm\u001b[0m\u001b[1;33m%\u001b[0m\u001b[1;36m2\u001b[0m\u001b[1;33m\u001b[0m\u001b[0m\n\u001b[0;32m      9\u001b[0m        \u001b[1;32mif\u001b[0m\u001b[1;33m(\u001b[0m\u001b[0md\u001b[0m \u001b[1;33m!=\u001b[0m\u001b[1;36m0\u001b[0m\u001b[1;33m)\u001b[0m\u001b[1;33m:\u001b[0m\u001b[1;33m\u001b[0m\u001b[0m\n",
        "\u001b[1;31mTypeError\u001b[0m: unsupported operand type(s) for /: 'str' and 'int'"
       ]
      }
     ],
     "prompt_number": 11
    },
    {
     "cell_type": "heading",
     "level": 2,
     "metadata": {},
     "source": [
      "Verificar si una cadena de caracteres es palindroma"
     ]
    },
    {
     "cell_type": "code",
     "collapsed": false,
     "input": [
      "import unicodedata\n",
      "import string"
     ],
     "language": "python",
     "metadata": {},
     "outputs": [],
     "prompt_number": 14
    },
    {
     "cell_type": "heading",
     "level": 2,
     "metadata": {},
     "source": [
      "Ejemplo de una cadena de caracteres que es palindroma:"
     ]
    },
    {
     "cell_type": "code",
     "collapsed": false,
     "input": [
      "e= \"ODA\\nDeseo,\\nno tu ni mi deseo solemne,\\ndeseo\\nsobrevolar arboleda nevada.\\nVen, alza, paloma.\\nLa leda luna, la gala\\nnula del alamo, la paz,\\nla nevada vena\\ndel obrar a lo verboso.\\nEs eden meloso\\nese diminuto no,\\nese dado.\"\n"
     ],
     "language": "python",
     "metadata": {},
     "outputs": [],
     "prompt_number": 18
    },
    {
     "cell_type": "code",
     "collapsed": false,
     "input": [
      "c= e.lower()\n",
      "v=1\n",
      "p1=0\n",
      "p2=len(c)-1\n",
      "while (v and p1<p2):\n",
      "    while(c[p1]== \" \" or c[p1]==\".\" or c[p1]==\"\\n\" or c[p1]== \"!\" or c[p1]==\",\"):\n",
      "        p1=p1+1\n",
      "    while(c[p2]== \" \" or c[p2]==\".\" or c[p2]==\"\\n\" or c[p2]== \"!\" or c[p2]==\",\"):\n",
      "        p2=p2-1\n",
      "    if(c[p1] != c[p2]):\n",
      "        v=0\n",
      "    p1=p1+1\n",
      "    p2=p2-1\n",
      "if(v):\n",
      "    print \"palindromo!\""
     ],
     "language": "python",
     "metadata": {},
     "outputs": [
      {
       "output_type": "stream",
       "stream": "stdout",
       "text": [
        "palindromo!\n"
       ]
      }
     ],
     "prompt_number": 19
    },
    {
     "cell_type": "code",
     "collapsed": false,
     "input": [],
     "language": "python",
     "metadata": {},
     "outputs": []
    }
   ],
   "metadata": {}
  }
 ]
}